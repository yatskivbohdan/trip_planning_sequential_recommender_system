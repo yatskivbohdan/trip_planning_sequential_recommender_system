{
 "cells": [
  {
   "cell_type": "code",
   "execution_count": null,
   "metadata": {},
   "outputs": [],
   "source": [
    "import pandas as pd\n",
    "import numpy as np"
   ]
  },
  {
   "cell_type": "code",
   "execution_count": null,
   "metadata": {},
   "outputs": [],
   "source": [
    "WINDOW_SIZE = 20\n",
    "CITY = \"Philadelphia\""
   ]
  },
  {
   "cell_type": "code",
   "execution_count": null,
   "metadata": {},
   "outputs": [],
   "source": [
    "from langdetect import detect"
   ]
  },
  {
   "cell_type": "code",
   "execution_count": null,
   "metadata": {},
   "outputs": [],
   "source": [
    "users = pd.read_csv(\n",
    "    \"../users.csv\"\n",
    ")"
   ]
  },
  {
   "cell_type": "code",
   "execution_count": null,
   "metadata": {},
   "outputs": [],
   "source": [
    "reviews = pd.read_csv(\n",
    "    \"../Philadelphia_reviews.csv\"\n",
    ")\n",
    "reviews['date'] = pd.to_datetime(reviews['date'], format=\"%Y-%m-%d %H:%M:%S\")\n",
    "reviews = reviews[[\"user_id\", \"business_id\", \"stars\", \"text\", \"date\"]]"
   ]
  },
  {
   "cell_type": "code",
   "execution_count": null,
   "metadata": {},
   "outputs": [],
   "source": [
    "reviews['user_id_str'] = reviews.user_id\n",
    "reviews.user_id = reviews.user_id.astype('category').cat.codes"
   ]
  },
  {
   "cell_type": "code",
   "execution_count": null,
   "metadata": {},
   "outputs": [],
   "source": [
    "reviews"
   ]
  },
  {
   "cell_type": "code",
   "execution_count": null,
   "metadata": {},
   "outputs": [],
   "source": [
    "reviews['len'] = reviews.text.apply(lambda x: len(x.split()))"
   ]
  },
  {
   "cell_type": "code",
   "execution_count": null,
   "metadata": {},
   "outputs": [],
   "source": [
    "reviews = reviews[reviews['len'] > 10]\n",
    "reviews = reviews[reviews['len'] < 256]\n",
    "reviews.drop(columns=['len'], inplace=True)"
   ]
  },
  {
   "cell_type": "code",
   "execution_count": null,
   "metadata": {},
   "outputs": [],
   "source": [
    "import fasttext as ft\n",
    "ft_model = ft.load_model(\"./pretrained/lid.176.bin\")"
   ]
  },
  {
   "cell_type": "code",
   "execution_count": null,
   "metadata": {},
   "outputs": [],
   "source": [
    "reviews['language'] = reviews.text.apply(lambda x: ft_model.predict(x.replace(\"\\n\", \" \"))[0][0])"
   ]
  },
  {
   "cell_type": "code",
   "execution_count": null,
   "metadata": {},
   "outputs": [],
   "source": [
    "reviews = reviews[reviews['language'] == \"__label__en\"]"
   ]
  },
  {
   "cell_type": "code",
   "execution_count": null,
   "metadata": {},
   "outputs": [],
   "source": [
    "reviews"
   ]
  },
  {
   "cell_type": "code",
   "execution_count": null,
   "metadata": {},
   "outputs": [],
   "source": [
    "Counter(reviews.language.tolist())"
   ]
  },
  {
   "cell_type": "code",
   "execution_count": null,
   "metadata": {},
   "outputs": [],
   "source": [
    "places = pd.read_csv(\n",
    "    \"../places.csv\"\n",
    ")\n",
    "places = places[places[\"city\"]==CITY]\n",
    "places = places[[\"business_id\", \"name\", \"categories\"]]\n",
    "places[\"categories\"].fillna(\"\", inplace = True)\n",
    "places['categories'] = places.categories.apply(lambda x: [el.strip() for el in x.split(',')])"
   ]
  },
  {
   "cell_type": "code",
   "execution_count": null,
   "metadata": {},
   "outputs": [],
   "source": [
    "places['business_id_str'] = places.business_id\n",
    "places.business_id = places.business_id.astype('category').cat.codes"
   ]
  },
  {
   "cell_type": "code",
   "execution_count": null,
   "metadata": {},
   "outputs": [],
   "source": [
    "places"
   ]
  },
  {
   "cell_type": "code",
   "execution_count": null,
   "metadata": {},
   "outputs": [],
   "source": [
    "indexed_places = places.set_index(\"business_id_str\")"
   ]
  },
  {
   "cell_type": "code",
   "execution_count": null,
   "metadata": {},
   "outputs": [],
   "source": [
    "categories = []\n",
    "for _, data in places.iterrows():\n",
    "    categories = categories + data.categories"
   ]
  },
  {
   "cell_type": "code",
   "execution_count": null,
   "metadata": {},
   "outputs": [],
   "source": [
    "from collections import Counter\n",
    "popular_categories = [el[0] for el in Counter(categories).most_common()[:25]]"
   ]
  },
  {
   "cell_type": "code",
   "execution_count": null,
   "metadata": {},
   "outputs": [],
   "source": [
    "popular_categories"
   ]
  },
  {
   "cell_type": "code",
   "execution_count": null,
   "metadata": {},
   "outputs": [],
   "source": [
    "for category in popular_categories:\n",
    "    places[category] = places[\"categories\"].apply(\n",
    "        lambda values: int(category in values)\n",
    "    )"
   ]
  },
  {
   "cell_type": "code",
   "execution_count": null,
   "metadata": {},
   "outputs": [],
   "source": [
    "places"
   ]
  },
  {
   "cell_type": "code",
   "execution_count": null,
   "metadata": {},
   "outputs": [],
   "source": [
    "encoded_place_ids = []\n",
    "\n",
    "for _, row in reviews.iterrows():\n",
    "    place = indexed_places.loc[row.business_id]\n",
    "    encoded_place_ids.append(place.business_id)\n",
    "    print(_)\n",
    "reviews['business_id'] = encoded_place_ids"
   ]
  },
  {
   "cell_type": "code",
   "execution_count": null,
   "metadata": {},
   "outputs": [],
   "source": [
    "reviews.drop(columns=['language'], inplace=True)"
   ]
  },
  {
   "cell_type": "code",
   "execution_count": null,
   "metadata": {},
   "outputs": [],
   "source": [
    "reviews"
   ]
  },
  {
   "cell_type": "code",
   "execution_count": null,
   "metadata": {},
   "outputs": [],
   "source": [
    "reviews.to_csv(\"data/reviews.csv\", index=False, sep=\",\")"
   ]
  },
  {
   "cell_type": "code",
   "execution_count": null,
   "metadata": {},
   "outputs": [],
   "source": [
    "places.to_csv(\"data/places.csv\", index=False, sep=\",\")"
   ]
  },
  {
   "cell_type": "code",
   "execution_count": null,
   "metadata": {
    "id": "D5v700zTLxVN"
   },
   "outputs": [],
   "source": [
    "reviews_group = reviews.sort_values(by=[\"date\"]).groupby(\"user_id\")\n",
    "\n",
    "reviews_data = pd.DataFrame(\n",
    "    data={\n",
    "        \"user_id\": list(reviews_group.groups.keys()),\n",
    "        \"place_ids\": list(reviews_group.business_id.apply(list)),\n",
    "        \"texts\": list(reviews_group.text.apply(list)),\n",
    "        \"ratings\": list(reviews_group.stars.apply(list)),\n",
    "        \"timestamps\": list(reviews_group.date.apply(list)),\n",
    "    }\n",
    ")\n"
   ]
  },
  {
   "cell_type": "code",
   "execution_count": null,
   "metadata": {},
   "outputs": [],
   "source": [
    "reviews_data.head()"
   ]
  },
  {
   "cell_type": "code",
   "execution_count": null,
   "metadata": {
    "id": "XdhRJlxULxVN"
   },
   "outputs": [],
   "source": [
    "sequence_length = 8\n",
    "step_size = 1\n",
    "\n",
    "\n",
    "def create_sequences(values, window_size, step_size):\n",
    "    sequences = []\n",
    "    start_index = 0\n",
    "    while True:\n",
    "        end_index = start_index + window_size\n",
    "        seq = values[start_index:end_index]\n",
    "        if len(seq) < window_size:\n",
    "            seq = values[-window_size:]\n",
    "            if len(seq) == window_size:\n",
    "                sequences.append(seq)\n",
    "            break\n",
    "        sequences.append(seq)\n",
    "        start_index += step_size\n",
    "    return sequences\n",
    "\n",
    "\n",
    "reviews_data.place_ids = reviews_data.place_ids.apply(\n",
    "    lambda ids: create_sequences(ids, sequence_length, step_size)\n",
    ")\n",
    "\n",
    "reviews_data.ratings = reviews_data.ratings.apply(\n",
    "    lambda ids: create_sequences(ids, sequence_length, step_size)\n",
    ")\n",
    "\n",
    "reviews_data.texts = reviews_data.texts.apply(\n",
    "    lambda ids: create_sequences(ids, sequence_length, step_size)\n",
    ")\n",
    "\n",
    "del reviews_data[\"timestamps\"]"
   ]
  },
  {
   "cell_type": "code",
   "execution_count": null,
   "metadata": {},
   "outputs": [],
   "source": [
    "reviews_data[reviews_data['ratings'].str.len() > 3]"
   ]
  },
  {
   "cell_type": "code",
   "execution_count": null,
   "metadata": {
    "id": "gM5_RBACLxVO"
   },
   "outputs": [],
   "source": [
    "reviews_data_places = reviews_data[[\"user_id\", \"place_ids\"]].explode(\n",
    "    \"place_ids\", ignore_index=True\n",
    ")\n",
    "reviews_data_rating = reviews_data[[\"ratings\"]].explode(\"ratings\", ignore_index=True)\n",
    "reviews_data_text = reviews_data[[\"texts\"]].explode(\"texts\", ignore_index=True)\n",
    "\n",
    "\n",
    "rewievs_data_transformed = pd.concat([reviews_data_places, reviews_data_text, reviews_data_rating], axis=1)"
   ]
  },
  {
   "cell_type": "code",
   "execution_count": null,
   "metadata": {},
   "outputs": [],
   "source": [
    "rewievs_data_transformed = rewievs_data_transformed.dropna()"
   ]
  },
  {
   "cell_type": "code",
   "execution_count": null,
   "metadata": {},
   "outputs": [],
   "source": [
    "rewievs_data_transformed"
   ]
  },
  {
   "cell_type": "code",
   "execution_count": null,
   "metadata": {
    "id": "0lPMjBoRLxVO"
   },
   "outputs": [],
   "source": [
    "random_selection = np.random.rand(len(rewievs_data_transformed.index)) <= 0.85\n",
    "train_data = rewievs_data_transformed[random_selection]\n",
    "test_data = rewievs_data_transformed[~random_selection]\n",
    "\n",
    "train_data.to_csv(\"data/train_data.csv\", index=False, sep=\",\")\n",
    "test_data.to_csv(\"data/test_data.csv\", index=False, sep=\",\")"
   ]
  },
  {
   "cell_type": "code",
   "execution_count": null,
   "metadata": {},
   "outputs": [],
   "source": [
    "test_data"
   ]
  },
  {
   "cell_type": "code",
   "execution_count": null,
   "metadata": {},
   "outputs": [],
   "source": []
  }
 ],
 "metadata": {
  "kernelspec": {
   "display_name": "myenv",
   "language": "python",
   "name": "myenv"
  },
  "language_info": {
   "codemirror_mode": {
    "name": "ipython",
    "version": 3
   },
   "file_extension": ".py",
   "mimetype": "text/x-python",
   "name": "python",
   "nbconvert_exporter": "python",
   "pygments_lexer": "ipython3",
   "version": "3.7.13"
  },
  "pycharm": {
   "stem_cell": {
    "cell_type": "raw",
    "metadata": {
     "collapsed": false
    },
    "source": []
   }
  }
 },
 "nbformat": 4,
 "nbformat_minor": 5
}
